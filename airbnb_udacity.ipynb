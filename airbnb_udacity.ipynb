{
 "cells": [
  {
   "cell_type": "markdown",
   "metadata": {},
   "source": [
    "# Business understanding"
   ]
  },
  {
   "cell_type": "markdown",
   "metadata": {},
   "source": [
    "### With the data set that we have, we want to be able to predict price of an airbnb listing and analyze reviews in Boston. With that task in mind we can also ask ourselves the following questions :\n",
    "### a) What is the predicted price of a listing in a particular season based on the attributes with have in our data?\n",
    "#### b) How does average price flactuate in different years,months,days?\n",
    "#### c) How much is our average price in different categorical attributes?\n",
    "#### c) How much is the average price with different reviews(positive,negative,neutral)?\n"
   ]
  },
  {
   "cell_type": "markdown",
   "metadata": {},
   "source": [
    "# Data understanding (EDA)"
   ]
  },
  {
   "cell_type": "code",
   "execution_count": 1,
   "metadata": {},
   "outputs": [],
   "source": [
    "import pickle\n",
    "import numpy as np\n",
    "import seaborn as sns\n",
    "import sklearn\n",
    "import pandas as pd\n",
    "import statsmodels.api as sm\n",
    "import matplotlib.pyplot as plt\n",
    "from datetime import datetime\n",
    "from sklearn.cluster import KMeans\n",
    "from sklearn.ensemble import RandomForestRegressor\n",
    "from sklearn.metrics import r2_score\n",
    "from sklearn.model_selection import train_test_split\n",
    "from sklearn.metrics import mean_squared_error\n",
    "from math import sqrt\n",
    "from sklearn.preprocessing import MinMaxScaler\n",
    "import scipy.stats as stats\n",
    "from math import sqrt\n",
    "import math\n",
    "from sklearn.metrics import confusion_matrix\n",
    "import sklearn.metrics as metrics\n",
    "from sklearn.metrics import mean_squared_error\n",
    "from sklearn.metrics import r2_score\n",
    "import warnings\n",
    "warnings.filterwarnings('ignore')\n",
    "from textblob import TextBlob\n",
    "from sklearn.model_selection import GridSearchCV\n",
    "pd.set_option('float_format', '{:f}'.format)"
   ]
  },
  {
   "cell_type": "code",
   "execution_count": 2,
   "metadata": {},
   "outputs": [],
   "source": [
    "B_calendar = pd.read_csv(\"Bcalendar.csv\")\n",
    "B_listings = pd.read_csv(\"Blistings.csv\")\n",
    "B_reviews = pd.read_csv(\"Breviews.csv\")"
   ]
  },
  {
   "cell_type": "code",
   "execution_count": 3,
   "metadata": {},
   "outputs": [
    {
     "data": {
      "text/plain": [
       "(1308890, 4)"
      ]
     },
     "execution_count": 3,
     "metadata": {},
     "output_type": "execute_result"
    }
   ],
   "source": [
    "# Calendar has 1,308,890 rows and 3 columns\n",
    "B_calendar.shape"
   ]
  },
  {
   "cell_type": "code",
   "execution_count": 4,
   "metadata": {},
   "outputs": [
    {
     "data": {
      "text/plain": [
       "(3585, 95)"
      ]
     },
     "execution_count": 4,
     "metadata": {},
     "output_type": "execute_result"
    }
   ],
   "source": [
    "# Calendar has 3,585 rows and 95 columns\n",
    "B_listings.shape"
   ]
  },
  {
   "cell_type": "code",
   "execution_count": 5,
   "metadata": {},
   "outputs": [
    {
     "data": {
      "text/plain": [
       "(68275, 6)"
      ]
     },
     "execution_count": 5,
     "metadata": {},
     "output_type": "execute_result"
    }
   ],
   "source": [
    "# Calendar has 68,275 rows and 6 columns\n",
    "B_reviews.shape"
   ]
  },
  {
   "cell_type": "code",
   "execution_count": 6,
   "metadata": {},
   "outputs": [
    {
     "data": {
      "text/html": [
       "<div>\n",
       "<style scoped>\n",
       "    .dataframe tbody tr th:only-of-type {\n",
       "        vertical-align: middle;\n",
       "    }\n",
       "\n",
       "    .dataframe tbody tr th {\n",
       "        vertical-align: top;\n",
       "    }\n",
       "\n",
       "    .dataframe thead th {\n",
       "        text-align: right;\n",
       "    }\n",
       "</style>\n",
       "<table border=\"1\" class=\"dataframe\">\n",
       "  <thead>\n",
       "    <tr style=\"text-align: right;\">\n",
       "      <th></th>\n",
       "      <th>listing_id</th>\n",
       "      <th>date</th>\n",
       "      <th>available</th>\n",
       "      <th>price</th>\n",
       "    </tr>\n",
       "  </thead>\n",
       "  <tbody>\n",
       "    <tr>\n",
       "      <th>0</th>\n",
       "      <td>12147973</td>\n",
       "      <td>2017-09-05</td>\n",
       "      <td>f</td>\n",
       "      <td>NaN</td>\n",
       "    </tr>\n",
       "    <tr>\n",
       "      <th>1</th>\n",
       "      <td>12147973</td>\n",
       "      <td>2017-09-04</td>\n",
       "      <td>f</td>\n",
       "      <td>NaN</td>\n",
       "    </tr>\n",
       "  </tbody>\n",
       "</table>\n",
       "</div>"
      ],
      "text/plain": [
       "   listing_id        date available price\n",
       "0    12147973  2017-09-05         f   NaN\n",
       "1    12147973  2017-09-04         f   NaN"
      ]
     },
     "execution_count": 6,
     "metadata": {},
     "output_type": "execute_result"
    }
   ],
   "source": [
    "#view of the columns printing 2 rows\n",
    "B_calendar.head(2)"
   ]
  },
  {
   "cell_type": "code",
   "execution_count": 7,
   "metadata": {},
   "outputs": [
    {
     "data": {
      "text/html": [
       "<div>\n",
       "<style scoped>\n",
       "    .dataframe tbody tr th:only-of-type {\n",
       "        vertical-align: middle;\n",
       "    }\n",
       "\n",
       "    .dataframe tbody tr th {\n",
       "        vertical-align: top;\n",
       "    }\n",
       "\n",
       "    .dataframe thead th {\n",
       "        text-align: right;\n",
       "    }\n",
       "</style>\n",
       "<table border=\"1\" class=\"dataframe\">\n",
       "  <thead>\n",
       "    <tr style=\"text-align: right;\">\n",
       "      <th></th>\n",
       "      <th>listing_id</th>\n",
       "      <th>id</th>\n",
       "      <th>date</th>\n",
       "      <th>reviewer_id</th>\n",
       "      <th>reviewer_name</th>\n",
       "      <th>comments</th>\n",
       "    </tr>\n",
       "  </thead>\n",
       "  <tbody>\n",
       "    <tr>\n",
       "      <th>0</th>\n",
       "      <td>1178162</td>\n",
       "      <td>4724140</td>\n",
       "      <td>2013-05-21</td>\n",
       "      <td>4298113</td>\n",
       "      <td>Olivier</td>\n",
       "      <td>My stay at islam's place was really cool! Good...</td>\n",
       "    </tr>\n",
       "    <tr>\n",
       "      <th>1</th>\n",
       "      <td>1178162</td>\n",
       "      <td>4869189</td>\n",
       "      <td>2013-05-29</td>\n",
       "      <td>6452964</td>\n",
       "      <td>Charlotte</td>\n",
       "      <td>Great location for both airport and city - gre...</td>\n",
       "    </tr>\n",
       "  </tbody>\n",
       "</table>\n",
       "</div>"
      ],
      "text/plain": [
       "   listing_id       id        date  reviewer_id reviewer_name  \\\n",
       "0     1178162  4724140  2013-05-21      4298113       Olivier   \n",
       "1     1178162  4869189  2013-05-29      6452964     Charlotte   \n",
       "\n",
       "                                            comments  \n",
       "0  My stay at islam's place was really cool! Good...  \n",
       "1  Great location for both airport and city - gre...  "
      ]
     },
     "execution_count": 7,
     "metadata": {},
     "output_type": "execute_result"
    }
   ],
   "source": [
    "#view of the columns printing 2 rows\n",
    "B_reviews.head(2)"
   ]
  },
  {
   "cell_type": "code",
   "execution_count": 8,
   "metadata": {},
   "outputs": [
    {
     "data": {
      "text/html": [
       "<div>\n",
       "<style scoped>\n",
       "    .dataframe tbody tr th:only-of-type {\n",
       "        vertical-align: middle;\n",
       "    }\n",
       "\n",
       "    .dataframe tbody tr th {\n",
       "        vertical-align: top;\n",
       "    }\n",
       "\n",
       "    .dataframe thead th {\n",
       "        text-align: right;\n",
       "    }\n",
       "</style>\n",
       "<table border=\"1\" class=\"dataframe\">\n",
       "  <thead>\n",
       "    <tr style=\"text-align: right;\">\n",
       "      <th></th>\n",
       "      <th>id</th>\n",
       "      <th>listing_url</th>\n",
       "      <th>scrape_id</th>\n",
       "      <th>last_scraped</th>\n",
       "      <th>name</th>\n",
       "      <th>summary</th>\n",
       "      <th>space</th>\n",
       "      <th>description</th>\n",
       "      <th>experiences_offered</th>\n",
       "      <th>neighborhood_overview</th>\n",
       "      <th>...</th>\n",
       "      <th>review_scores_value</th>\n",
       "      <th>requires_license</th>\n",
       "      <th>license</th>\n",
       "      <th>jurisdiction_names</th>\n",
       "      <th>instant_bookable</th>\n",
       "      <th>cancellation_policy</th>\n",
       "      <th>require_guest_profile_picture</th>\n",
       "      <th>require_guest_phone_verification</th>\n",
       "      <th>calculated_host_listings_count</th>\n",
       "      <th>reviews_per_month</th>\n",
       "    </tr>\n",
       "  </thead>\n",
       "  <tbody>\n",
       "    <tr>\n",
       "      <th>0</th>\n",
       "      <td>12147973</td>\n",
       "      <td>https://www.airbnb.com/rooms/12147973</td>\n",
       "      <td>20160906204935</td>\n",
       "      <td>2016-09-07</td>\n",
       "      <td>Sunny Bungalow in the City</td>\n",
       "      <td>Cozy, sunny, family home.  Master bedroom high...</td>\n",
       "      <td>The house has an open and cozy feel at the sam...</td>\n",
       "      <td>Cozy, sunny, family home.  Master bedroom high...</td>\n",
       "      <td>none</td>\n",
       "      <td>Roslindale is quiet, convenient and friendly. ...</td>\n",
       "      <td>...</td>\n",
       "      <td>NaN</td>\n",
       "      <td>f</td>\n",
       "      <td>NaN</td>\n",
       "      <td>NaN</td>\n",
       "      <td>f</td>\n",
       "      <td>moderate</td>\n",
       "      <td>f</td>\n",
       "      <td>f</td>\n",
       "      <td>1</td>\n",
       "      <td>NaN</td>\n",
       "    </tr>\n",
       "    <tr>\n",
       "      <th>1</th>\n",
       "      <td>3075044</td>\n",
       "      <td>https://www.airbnb.com/rooms/3075044</td>\n",
       "      <td>20160906204935</td>\n",
       "      <td>2016-09-07</td>\n",
       "      <td>Charming room in pet friendly apt</td>\n",
       "      <td>Charming and quiet room in a second floor 1910...</td>\n",
       "      <td>Small but cozy and quite room with a full size...</td>\n",
       "      <td>Charming and quiet room in a second floor 1910...</td>\n",
       "      <td>none</td>\n",
       "      <td>The room is in Roslindale, a diverse and prima...</td>\n",
       "      <td>...</td>\n",
       "      <td>9.000000</td>\n",
       "      <td>f</td>\n",
       "      <td>NaN</td>\n",
       "      <td>NaN</td>\n",
       "      <td>t</td>\n",
       "      <td>moderate</td>\n",
       "      <td>f</td>\n",
       "      <td>f</td>\n",
       "      <td>1</td>\n",
       "      <td>1.300000</td>\n",
       "    </tr>\n",
       "  </tbody>\n",
       "</table>\n",
       "<p>2 rows × 95 columns</p>\n",
       "</div>"
      ],
      "text/plain": [
       "         id                            listing_url       scrape_id  \\\n",
       "0  12147973  https://www.airbnb.com/rooms/12147973  20160906204935   \n",
       "1   3075044   https://www.airbnb.com/rooms/3075044  20160906204935   \n",
       "\n",
       "  last_scraped                               name  \\\n",
       "0   2016-09-07         Sunny Bungalow in the City   \n",
       "1   2016-09-07  Charming room in pet friendly apt   \n",
       "\n",
       "                                             summary  \\\n",
       "0  Cozy, sunny, family home.  Master bedroom high...   \n",
       "1  Charming and quiet room in a second floor 1910...   \n",
       "\n",
       "                                               space  \\\n",
       "0  The house has an open and cozy feel at the sam...   \n",
       "1  Small but cozy and quite room with a full size...   \n",
       "\n",
       "                                         description experiences_offered  \\\n",
       "0  Cozy, sunny, family home.  Master bedroom high...                none   \n",
       "1  Charming and quiet room in a second floor 1910...                none   \n",
       "\n",
       "                               neighborhood_overview  ... review_scores_value  \\\n",
       "0  Roslindale is quiet, convenient and friendly. ...  ...                 NaN   \n",
       "1  The room is in Roslindale, a diverse and prima...  ...            9.000000   \n",
       "\n",
       "  requires_license license jurisdiction_names instant_bookable  \\\n",
       "0                f     NaN                NaN                f   \n",
       "1                f     NaN                NaN                t   \n",
       "\n",
       "  cancellation_policy require_guest_profile_picture  \\\n",
       "0            moderate                             f   \n",
       "1            moderate                             f   \n",
       "\n",
       "  require_guest_phone_verification calculated_host_listings_count  \\\n",
       "0                                f                              1   \n",
       "1                                f                              1   \n",
       "\n",
       "   reviews_per_month  \n",
       "0                NaN  \n",
       "1           1.300000  \n",
       "\n",
       "[2 rows x 95 columns]"
      ]
     },
     "execution_count": 8,
     "metadata": {},
     "output_type": "execute_result"
    }
   ],
   "source": [
    "#view of the columns printing 2 rows\n",
    "B_listings.head(2)"
   ]
  },
  {
   "cell_type": "code",
   "execution_count": 9,
   "metadata": {},
   "outputs": [],
   "source": [
    "#This function extracts year from strings in column date\n",
    "def Get_year(list_) :\n",
    "    text_ =  list_.date[0:4]\n",
    "    return text_   "
   ]
  },
  {
   "cell_type": "code",
   "execution_count": 10,
   "metadata": {},
   "outputs": [],
   "source": [
    "#This function extracts month from strings in column date\n",
    "def Get_month(list_) :\n",
    "    text_1 =  list_.date[5:7]\n",
    "    return text_1   "
   ]
  },
  {
   "cell_type": "code",
   "execution_count": 11,
   "metadata": {},
   "outputs": [],
   "source": [
    "#This function extracts day from strings in column date\n",
    "def Get_day(list_) :\n",
    "    text_2 =  list_.date[8:10]\n",
    "    return text_2   "
   ]
  },
  {
   "cell_type": "code",
   "execution_count": 12,
   "metadata": {},
   "outputs": [],
   "source": [
    "#This function removes \"S\" and \",\" from and convert it to float\n",
    "def dollar_sign_removal(list_) :\n",
    "    modified_string =  str(list_.price).replace(',', '')\n",
    "    modified_string =  modified_string.replace('$', '')\n",
    "    return float(modified_string)"
   ]
  },
  {
   "cell_type": "code",
   "execution_count": 13,
   "metadata": {},
   "outputs": [],
   "source": [
    "#Adding new column, year\n",
    "B_calendar['year'] = B_calendar.apply(Get_year,axis=1) "
   ]
  },
  {
   "cell_type": "code",
   "execution_count": 14,
   "metadata": {},
   "outputs": [],
   "source": [
    "#Adding new column, month\n",
    "B_calendar['month'] = B_calendar.apply(Get_month,axis=1) "
   ]
  },
  {
   "cell_type": "code",
   "execution_count": 15,
   "metadata": {},
   "outputs": [],
   "source": [
    "#Adding new column, day\n",
    "B_calendar['day'] = B_calendar.apply(Get_day,axis=1) "
   ]
  },
  {
   "cell_type": "code",
   "execution_count": 16,
   "metadata": {},
   "outputs": [],
   "source": [
    "#removing dollar signs on price\n",
    "B_calendar['price'] = B_calendar.apply(dollar_sign_removal,axis=1) "
   ]
  },
  {
   "cell_type": "code",
   "execution_count": 17,
   "metadata": {},
   "outputs": [],
   "source": [
    "#removing dollar signs on price,extra-people, and cleaning fee\n",
    "to_remove_dollar_sign_B_listings = ['price','extra_people','cleaning_fee']\n",
    "for item in to_remove_dollar_sign_B_listings :\n",
    "    B_listings[item] = B_listings.apply(dollar_sign_removal,axis=1)"
   ]
  },
  {
   "cell_type": "code",
   "execution_count": 18,
   "metadata": {},
   "outputs": [],
   "source": [
    "#Adding new column, year\n",
    "B_reviews['year'] = B_reviews.apply(Get_year,axis=1) "
   ]
  },
  {
   "cell_type": "code",
   "execution_count": 19,
   "metadata": {},
   "outputs": [],
   "source": [
    "#Adding new column, month\n",
    "B_reviews['month'] = B_reviews.apply(Get_month,axis=1) "
   ]
  },
  {
   "cell_type": "code",
   "execution_count": 20,
   "metadata": {},
   "outputs": [],
   "source": [
    "#removing dollar signs on price\n",
    "B_reviews['day'] = B_reviews.apply(Get_day,axis=1) "
   ]
  },
  {
   "cell_type": "markdown",
   "metadata": {},
   "source": [
    "##### Calendar listings EDA"
   ]
  },
  {
   "cell_type": "code",
   "execution_count": 21,
   "metadata": {},
   "outputs": [
    {
     "data": {
      "text/html": [
       "<div>\n",
       "<style scoped>\n",
       "    .dataframe tbody tr th:only-of-type {\n",
       "        vertical-align: middle;\n",
       "    }\n",
       "\n",
       "    .dataframe tbody tr th {\n",
       "        vertical-align: top;\n",
       "    }\n",
       "\n",
       "    .dataframe thead th {\n",
       "        text-align: right;\n",
       "    }\n",
       "</style>\n",
       "<table border=\"1\" class=\"dataframe\">\n",
       "  <thead>\n",
       "    <tr style=\"text-align: right;\">\n",
       "      <th></th>\n",
       "      <th>listing_id</th>\n",
       "      <th>date</th>\n",
       "      <th>available</th>\n",
       "      <th>price</th>\n",
       "      <th>year</th>\n",
       "      <th>month</th>\n",
       "      <th>day</th>\n",
       "    </tr>\n",
       "  </thead>\n",
       "  <tbody>\n",
       "    <tr>\n",
       "      <th>0</th>\n",
       "      <td>12147973</td>\n",
       "      <td>2017-09-05</td>\n",
       "      <td>f</td>\n",
       "      <td>NaN</td>\n",
       "      <td>2017</td>\n",
       "      <td>09</td>\n",
       "      <td>05</td>\n",
       "    </tr>\n",
       "    <tr>\n",
       "      <th>1</th>\n",
       "      <td>12147973</td>\n",
       "      <td>2017-09-04</td>\n",
       "      <td>f</td>\n",
       "      <td>NaN</td>\n",
       "      <td>2017</td>\n",
       "      <td>09</td>\n",
       "      <td>04</td>\n",
       "    </tr>\n",
       "  </tbody>\n",
       "</table>\n",
       "</div>"
      ],
      "text/plain": [
       "   listing_id        date available  price  year month day\n",
       "0    12147973  2017-09-05         f    NaN  2017    09  05\n",
       "1    12147973  2017-09-04         f    NaN  2017    09  04"
      ]
     },
     "execution_count": 21,
     "metadata": {},
     "output_type": "execute_result"
    }
   ],
   "source": [
    "#Dataframe with year,month,day as new columns\n",
    "B_calendar.head(2)"
   ]
  },
  {
   "cell_type": "code",
   "execution_count": 22,
   "metadata": {},
   "outputs": [
    {
     "data": {
      "text/html": [
       "<div>\n",
       "<style scoped>\n",
       "    .dataframe tbody tr th:only-of-type {\n",
       "        vertical-align: middle;\n",
       "    }\n",
       "\n",
       "    .dataframe tbody tr th {\n",
       "        vertical-align: top;\n",
       "    }\n",
       "\n",
       "    .dataframe thead th {\n",
       "        text-align: right;\n",
       "    }\n",
       "</style>\n",
       "<table border=\"1\" class=\"dataframe\">\n",
       "  <thead>\n",
       "    <tr style=\"text-align: right;\">\n",
       "      <th></th>\n",
       "      <th>price</th>\n",
       "    </tr>\n",
       "  </thead>\n",
       "  <tbody>\n",
       "    <tr>\n",
       "      <th>count</th>\n",
       "      <td>643037.000000</td>\n",
       "    </tr>\n",
       "    <tr>\n",
       "      <th>mean</th>\n",
       "      <td>198.438909</td>\n",
       "    </tr>\n",
       "    <tr>\n",
       "      <th>std</th>\n",
       "      <td>180.142913</td>\n",
       "    </tr>\n",
       "    <tr>\n",
       "      <th>min</th>\n",
       "      <td>11.000000</td>\n",
       "    </tr>\n",
       "    <tr>\n",
       "      <th>25%</th>\n",
       "      <td>85.000000</td>\n",
       "    </tr>\n",
       "    <tr>\n",
       "      <th>50%</th>\n",
       "      <td>150.000000</td>\n",
       "    </tr>\n",
       "    <tr>\n",
       "      <th>75%</th>\n",
       "      <td>255.000000</td>\n",
       "    </tr>\n",
       "    <tr>\n",
       "      <th>max</th>\n",
       "      <td>7163.000000</td>\n",
       "    </tr>\n",
       "  </tbody>\n",
       "</table>\n",
       "</div>"
      ],
      "text/plain": [
       "              price\n",
       "count 643037.000000\n",
       "mean     198.438909\n",
       "std      180.142913\n",
       "min       11.000000\n",
       "25%       85.000000\n",
       "50%      150.000000\n",
       "75%      255.000000\n",
       "max     7163.000000"
      ]
     },
     "execution_count": 22,
     "metadata": {},
     "output_type": "execute_result"
    }
   ],
   "source": [
    "#minimum price is $11, average price is $198, and maximum price is $7163\n",
    "B_calendar[B_calendar.available=='t'].drop(\"listing_id\",axis=1).describe()"
   ]
  },
  {
   "cell_type": "code",
   "execution_count": 23,
   "metadata": {},
   "outputs": [
    {
     "data": {
      "text/plain": [
       "<Axes: xlabel='year'>"
      ]
     },
     "execution_count": 23,
     "metadata": {},
     "output_type": "execute_result"
    },
    {
     "data": {
      "image/png": "[encoded data removed]",
      "text/plain": [
       "<Figure size 640x480 with 1 Axes>"
      ]
     },
     "metadata": {},
     "output_type": "display_data"
    }
   ],
   "source": [
    "#How does average price flactuate in different years?\n",
    "B_calendar[['year','price']].groupby(['year']).mean().plot(kind=\"bar\")"
   ]
  },
  {
   "cell_type": "code",
   "execution_count": 24,
   "metadata": {},
   "outputs": [
    {
     "data": {
      "text/plain": [
       "<Axes: xlabel='month'>"
      ]
     },
     "execution_count": 24,
     "metadata": {},
     "output_type": "execute_result"
    },
    {
     "data": {
      "image/png": "[encoded data removed]",
      "text/plain": [
       "<Figure size 640x480 with 1 Axes>"
      ]
     },
     "metadata": {},
     "output_type": "display_data"
    }
   ],
   "source": [
    "#How does average price flactuate in different months?\n",
    "B_calendar[['month','price']].groupby(['month']).mean().plot(kind=\"bar\")"
   ]
  },
  {
   "cell_type": "code",
   "execution_count": 25,
   "metadata": {},
   "outputs": [
    {
     "data": {
      "text/plain": [
       "<Axes: xlabel='day'>"
      ]
     },
     "execution_count": 25,
     "metadata": {},
     "output_type": "execute_result"
    },
    {
     "data": {
      "image/png": "[encoded data removed]",
      "text/plain": [
       "<Figure size 640x480 with 1 Axes>"
      ]
     },
     "metadata": {},
     "output_type": "display_data"
    }
   ],
   "source": [
    "#How does average price flactuate in different months?\n",
    "B_calendar[['day','price']].groupby(['day']).mean().plot(kind=\"bar\")"
   ]
  },
  {
   "cell_type": "markdown",
   "metadata": {},
   "source": [
    "##### Listings EDA"
   ]
  },
  {
   "cell_type": "code",
   "execution_count": 26,
   "metadata": {},
   "outputs": [
    {
     "data": {
      "text/plain": [
       "<Axes: xlabel='property_type'>"
      ]
     },
     "execution_count": 26,
     "metadata": {},
     "output_type": "execute_result"
    },
    {
     "data": {
      "image/png": "[encoded data removed]",
      "text/plain": [
       "<Figure size 640x480 with 1 Axes>"
      ]
     },
     "metadata": {},
     "output_type": "display_data"
    }
   ],
   "source": [
    "#Guest houses have the highest average price and RVs have the least average prices\n",
    "B_listings[['price','property_type']].groupby(\"property_type\").mean().plot(kind=\"bar\")"
   ]
  },
  {
   "cell_type": "code",
   "execution_count": 27,
   "metadata": {},
   "outputs": [
    {
     "data": {
      "text/plain": [
       "<Axes: xlabel='room_type'>"
      ]
     },
     "execution_count": 27,
     "metadata": {},
     "output_type": "execute_result"
    },
    {
     "data": {
      "image/png": "[encoded data removed]",
      "text/plain": [
       "<Figure size 640x480 with 1 Axes>"
      ]
     },
     "metadata": {},
     "output_type": "display_data"
    }
   ],
   "source": [
    "#apt room types have the highest average price and private rooms and shared rooms have the same average prices\n",
    "B_listings[['price','room_type']].groupby(\"room_type\").mean().plot(kind=\"bar\")"
   ]
  },
  {
   "cell_type": "code",
   "execution_count": 28,
   "metadata": {},
   "outputs": [
    {
     "data": {
      "text/plain": [
       "<Axes: xlabel='bed_type'>"
      ]
     },
     "execution_count": 28,
     "metadata": {},
     "output_type": "execute_result"
    },
    {
     "data": {
      "image/png": "[encoded data removed]",
      "text/plain": [
       "<Figure size 640x480 with 1 Axes>"
      ]
     },
     "metadata": {},
     "output_type": "display_data"
    }
   ],
   "source": [
    "#rooms with real beds have the highest average price and ones with airbeds have the least average prices\n",
    "B_listings[['price','bed_type']].groupby(\"bed_type\").mean().plot(kind=\"bar\")"
   ]
  },
  {
   "cell_type": "code",
   "execution_count": 29,
   "metadata": {},
   "outputs": [
    {
     "data": {
      "text/html": [
       "<div>\n",
       "<style scoped>\n",
       "    .dataframe tbody tr th:only-of-type {\n",
       "        vertical-align: middle;\n",
       "    }\n",
       "\n",
       "    .dataframe tbody tr th {\n",
       "        vertical-align: top;\n",
       "    }\n",
       "\n",
       "    .dataframe thead th {\n",
       "        text-align: right;\n",
       "    }\n",
       "</style>\n",
       "<table border=\"1\" class=\"dataframe\">\n",
       "  <thead>\n",
       "    <tr style=\"text-align: right;\">\n",
       "      <th></th>\n",
       "      <th></th>\n",
       "      <th></th>\n",
       "      <th>price</th>\n",
       "    </tr>\n",
       "    <tr>\n",
       "      <th>property_type</th>\n",
       "      <th>room_type</th>\n",
       "      <th>bed_type</th>\n",
       "      <th></th>\n",
       "    </tr>\n",
       "  </thead>\n",
       "  <tbody>\n",
       "    <tr>\n",
       "      <th rowspan=\"2\" valign=\"top\">Other</th>\n",
       "      <th>Shared room</th>\n",
       "      <th>Airbed</th>\n",
       "      <td>500.000000</td>\n",
       "    </tr>\n",
       "    <tr>\n",
       "      <th>Entire home/apt</th>\n",
       "      <th>Real Bed</th>\n",
       "      <td>324.500000</td>\n",
       "    </tr>\n",
       "    <tr>\n",
       "      <th>Guesthouse</th>\n",
       "      <th>Entire home/apt</th>\n",
       "      <th>Real Bed</th>\n",
       "      <td>289.000000</td>\n",
       "    </tr>\n",
       "    <tr>\n",
       "      <th>Boat</th>\n",
       "      <th>Private room</th>\n",
       "      <th>Real Bed</th>\n",
       "      <td>287.000000</td>\n",
       "    </tr>\n",
       "    <tr>\n",
       "      <th>House</th>\n",
       "      <th>Entire home/apt</th>\n",
       "      <th>Real Bed</th>\n",
       "      <td>277.843537</td>\n",
       "    </tr>\n",
       "    <tr>\n",
       "      <th>Other</th>\n",
       "      <th>Shared room</th>\n",
       "      <th>Real Bed</th>\n",
       "      <td>270.000000</td>\n",
       "    </tr>\n",
       "    <tr>\n",
       "      <th>Townhouse</th>\n",
       "      <th>Entire home/apt</th>\n",
       "      <th>Real Bed</th>\n",
       "      <td>268.357143</td>\n",
       "    </tr>\n",
       "    <tr>\n",
       "      <th>Boat</th>\n",
       "      <th>Entire home/apt</th>\n",
       "      <th>Real Bed</th>\n",
       "      <td>265.200000</td>\n",
       "    </tr>\n",
       "    <tr>\n",
       "      <th>Villa</th>\n",
       "      <th>Entire home/apt</th>\n",
       "      <th>Real Bed</th>\n",
       "      <td>263.500000</td>\n",
       "    </tr>\n",
       "    <tr>\n",
       "      <th>Condominium</th>\n",
       "      <th>Entire home/apt</th>\n",
       "      <th>Real Bed</th>\n",
       "      <td>235.120805</td>\n",
       "    </tr>\n",
       "    <tr>\n",
       "      <th>Other</th>\n",
       "      <th>Shared room</th>\n",
       "      <th>Couch</th>\n",
       "      <td>225.000000</td>\n",
       "    </tr>\n",
       "    <tr>\n",
       "      <th>Apartment</th>\n",
       "      <th>Entire home/apt</th>\n",
       "      <th>Real Bed</th>\n",
       "      <td>223.608372</td>\n",
       "    </tr>\n",
       "    <tr>\n",
       "      <th>Loft</th>\n",
       "      <th>Entire home/apt</th>\n",
       "      <th>Real Bed</th>\n",
       "      <td>217.068966</td>\n",
       "    </tr>\n",
       "    <tr>\n",
       "      <th>Other</th>\n",
       "      <th>Private room</th>\n",
       "      <th>Real Bed</th>\n",
       "      <td>181.363636</td>\n",
       "    </tr>\n",
       "    <tr>\n",
       "      <th>Condominium</th>\n",
       "      <th>Entire home/apt</th>\n",
       "      <th>Futon</th>\n",
       "      <td>163.000000</td>\n",
       "    </tr>\n",
       "    <tr>\n",
       "      <th>Apartment</th>\n",
       "      <th>Entire home/apt</th>\n",
       "      <th>Pull-out Sofa</th>\n",
       "      <td>156.375000</td>\n",
       "    </tr>\n",
       "    <tr>\n",
       "      <th>Entire Floor</th>\n",
       "      <th>Entire home/apt</th>\n",
       "      <th>Real Bed</th>\n",
       "      <td>154.000000</td>\n",
       "    </tr>\n",
       "    <tr>\n",
       "      <th>Villa</th>\n",
       "      <th>Private room</th>\n",
       "      <th>Real Bed</th>\n",
       "      <td>152.500000</td>\n",
       "    </tr>\n",
       "    <tr>\n",
       "      <th rowspan=\"2\" valign=\"top\">Bed &amp; Breakfast</th>\n",
       "      <th>Entire home/apt</th>\n",
       "      <th>Real Bed</th>\n",
       "      <td>142.500000</td>\n",
       "    </tr>\n",
       "    <tr>\n",
       "      <th>Private room</th>\n",
       "      <th>Real Bed</th>\n",
       "      <td>130.921053</td>\n",
       "    </tr>\n",
       "    <tr>\n",
       "      <th>Apartment</th>\n",
       "      <th>Private room</th>\n",
       "      <th>Couch</th>\n",
       "      <td>126.666667</td>\n",
       "    </tr>\n",
       "    <tr>\n",
       "      <th>Condominium</th>\n",
       "      <th>Private room</th>\n",
       "      <th>Real Bed</th>\n",
       "      <td>110.077922</td>\n",
       "    </tr>\n",
       "    <tr>\n",
       "      <th>Townhouse</th>\n",
       "      <th>Private room</th>\n",
       "      <th>Real Bed</th>\n",
       "      <td>108.794872</td>\n",
       "    </tr>\n",
       "    <tr>\n",
       "      <th>Loft</th>\n",
       "      <th>Private room</th>\n",
       "      <th>Real Bed</th>\n",
       "      <td>105.714286</td>\n",
       "    </tr>\n",
       "    <tr>\n",
       "      <th rowspan=\"3\" valign=\"top\">Apartment</th>\n",
       "      <th>Private room</th>\n",
       "      <th>Pull-out Sofa</th>\n",
       "      <td>103.571429</td>\n",
       "    </tr>\n",
       "    <tr>\n",
       "      <th>Entire home/apt</th>\n",
       "      <th>Futon</th>\n",
       "      <td>102.416667</td>\n",
       "    </tr>\n",
       "    <tr>\n",
       "      <th>Private room</th>\n",
       "      <th>Real Bed</th>\n",
       "      <td>100.361149</td>\n",
       "    </tr>\n",
       "    <tr>\n",
       "      <th>Loft</th>\n",
       "      <th>Shared room</th>\n",
       "      <th>Real Bed</th>\n",
       "      <td>99.000000</td>\n",
       "    </tr>\n",
       "    <tr>\n",
       "      <th>Apartment</th>\n",
       "      <th>Shared room</th>\n",
       "      <th>Real Bed</th>\n",
       "      <td>92.742857</td>\n",
       "    </tr>\n",
       "    <tr>\n",
       "      <th>Entire Floor</th>\n",
       "      <th>Private room</th>\n",
       "      <th>Real Bed</th>\n",
       "      <td>90.000000</td>\n",
       "    </tr>\n",
       "    <tr>\n",
       "      <th>Condominium</th>\n",
       "      <th>Shared room</th>\n",
       "      <th>Pull-out Sofa</th>\n",
       "      <td>89.000000</td>\n",
       "    </tr>\n",
       "    <tr>\n",
       "      <th>Apartment</th>\n",
       "      <th>Shared room</th>\n",
       "      <th>Airbed</th>\n",
       "      <td>89.000000</td>\n",
       "    </tr>\n",
       "    <tr>\n",
       "      <th rowspan=\"2\" valign=\"top\">House</th>\n",
       "      <th rowspan=\"2\" valign=\"top\">Private room</th>\n",
       "      <th>Futon</th>\n",
       "      <td>87.090909</td>\n",
       "    </tr>\n",
       "    <tr>\n",
       "      <th>Pull-out Sofa</th>\n",
       "      <td>81.500000</td>\n",
       "    </tr>\n",
       "    <tr>\n",
       "      <th>Apartment</th>\n",
       "      <th>Private room</th>\n",
       "      <th>Futon</th>\n",
       "      <td>80.300000</td>\n",
       "    </tr>\n",
       "    <tr>\n",
       "      <th rowspan=\"3\" valign=\"top\">House</th>\n",
       "      <th>Private room</th>\n",
       "      <th>Real Bed</th>\n",
       "      <td>80.121134</td>\n",
       "    </tr>\n",
       "    <tr>\n",
       "      <th>Shared room</th>\n",
       "      <th>Pull-out Sofa</th>\n",
       "      <td>80.000000</td>\n",
       "    </tr>\n",
       "    <tr>\n",
       "      <th>Private room</th>\n",
       "      <th>Airbed</th>\n",
       "      <td>73.000000</td>\n",
       "    </tr>\n",
       "    <tr>\n",
       "      <th>Apartment</th>\n",
       "      <th>Shared room</th>\n",
       "      <th>Pull-out Sofa</th>\n",
       "      <td>71.000000</td>\n",
       "    </tr>\n",
       "    <tr>\n",
       "      <th>Condominium</th>\n",
       "      <th>Private room</th>\n",
       "      <th>Futon</th>\n",
       "      <td>70.000000</td>\n",
       "    </tr>\n",
       "    <tr>\n",
       "      <th>Apartment</th>\n",
       "      <th>Shared room</th>\n",
       "      <th>Couch</th>\n",
       "      <td>67.250000</td>\n",
       "    </tr>\n",
       "    <tr>\n",
       "      <th>Loft</th>\n",
       "      <th>Shared room</th>\n",
       "      <th>Pull-out Sofa</th>\n",
       "      <td>67.000000</td>\n",
       "    </tr>\n",
       "    <tr>\n",
       "      <th>Condominium</th>\n",
       "      <th>Private room</th>\n",
       "      <th>Pull-out Sofa</th>\n",
       "      <td>65.000000</td>\n",
       "    </tr>\n",
       "    <tr>\n",
       "      <th>Dorm</th>\n",
       "      <th>Private room</th>\n",
       "      <th>Real Bed</th>\n",
       "      <td>62.500000</td>\n",
       "    </tr>\n",
       "    <tr>\n",
       "      <th>House</th>\n",
       "      <th>Shared room</th>\n",
       "      <th>Couch</th>\n",
       "      <td>61.000000</td>\n",
       "    </tr>\n",
       "    <tr>\n",
       "      <th>Apartment</th>\n",
       "      <th>Private room</th>\n",
       "      <th>Airbed</th>\n",
       "      <td>60.960000</td>\n",
       "    </tr>\n",
       "    <tr>\n",
       "      <th>Camper/RV</th>\n",
       "      <th>Entire home/apt</th>\n",
       "      <th>Real Bed</th>\n",
       "      <td>60.000000</td>\n",
       "    </tr>\n",
       "    <tr>\n",
       "      <th rowspan=\"2\" valign=\"top\">House</th>\n",
       "      <th>Shared room</th>\n",
       "      <th>Real Bed</th>\n",
       "      <td>59.833333</td>\n",
       "    </tr>\n",
       "    <tr>\n",
       "      <th>Entire home/apt</th>\n",
       "      <th>Futon</th>\n",
       "      <td>55.000000</td>\n",
       "    </tr>\n",
       "    <tr>\n",
       "      <th>Apartment</th>\n",
       "      <th>Shared room</th>\n",
       "      <th>Futon</th>\n",
       "      <td>54.750000</td>\n",
       "    </tr>\n",
       "    <tr>\n",
       "      <th>Condominium</th>\n",
       "      <th>Shared room</th>\n",
       "      <th>Real Bed</th>\n",
       "      <td>51.000000</td>\n",
       "    </tr>\n",
       "    <tr>\n",
       "      <th>Townhouse</th>\n",
       "      <th>Private room</th>\n",
       "      <th>Futon</th>\n",
       "      <td>48.000000</td>\n",
       "    </tr>\n",
       "    <tr>\n",
       "      <th>Bed &amp; Breakfast</th>\n",
       "      <th>Shared room</th>\n",
       "      <th>Real Bed</th>\n",
       "      <td>44.000000</td>\n",
       "    </tr>\n",
       "    <tr>\n",
       "      <th>Loft</th>\n",
       "      <th>Private room</th>\n",
       "      <th>Airbed</th>\n",
       "      <td>30.000000</td>\n",
       "    </tr>\n",
       "  </tbody>\n",
       "</table>\n",
       "</div>"
      ],
      "text/plain": [
       "                                                   price\n",
       "property_type   room_type       bed_type                \n",
       "Other           Shared room     Airbed        500.000000\n",
       "                Entire home/apt Real Bed      324.500000\n",
       "Guesthouse      Entire home/apt Real Bed      289.000000\n",
       "Boat            Private room    Real Bed      287.000000\n",
       "House           Entire home/apt Real Bed      277.843537\n",
       "Other           Shared room     Real Bed      270.000000\n",
       "Townhouse       Entire home/apt Real Bed      268.357143\n",
       "Boat            Entire home/apt Real Bed      265.200000\n",
       "Villa           Entire home/apt Real Bed      263.500000\n",
       "Condominium     Entire home/apt Real Bed      235.120805\n",
       "Other           Shared room     Couch         225.000000\n",
       "Apartment       Entire home/apt Real Bed      223.608372\n",
       "Loft            Entire home/apt Real Bed      217.068966\n",
       "Other           Private room    Real Bed      181.363636\n",
       "Condominium     Entire home/apt Futon         163.000000\n",
       "Apartment       Entire home/apt Pull-out Sofa 156.375000\n",
       "Entire Floor    Entire home/apt Real Bed      154.000000\n",
       "Villa           Private room    Real Bed      152.500000\n",
       "Bed & Breakfast Entire home/apt Real Bed      142.500000\n",
       "                Private room    Real Bed      130.921053\n",
       "Apartment       Private room    Couch         126.666667\n",
       "Condominium     Private room    Real Bed      110.077922\n",
       "Townhouse       Private room    Real Bed      108.794872\n",
       "Loft            Private room    Real Bed      105.714286\n",
       "Apartment       Private room    Pull-out Sofa 103.571429\n",
       "                Entire home/apt Futon         102.416667\n",
       "                Private room    Real Bed      100.361149\n",
       "Loft            Shared room     Real Bed       99.000000\n",
       "Apartment       Shared room     Real Bed       92.742857\n",
       "Entire Floor    Private room    Real Bed       90.000000\n",
       "Condominium     Shared room     Pull-out Sofa  89.000000\n",
       "Apartment       Shared room     Airbed         89.000000\n",
       "House           Private room    Futon          87.090909\n",
       "                                Pull-out Sofa  81.500000\n",
       "Apartment       Private room    Futon          80.300000\n",
       "House           Private room    Real Bed       80.121134\n",
       "                Shared room     Pull-out Sofa  80.000000\n",
       "                Private room    Airbed         73.000000\n",
       "Apartment       Shared room     Pull-out Sofa  71.000000\n",
       "Condominium     Private room    Futon          70.000000\n",
       "Apartment       Shared room     Couch          67.250000\n",
       "Loft            Shared room     Pull-out Sofa  67.000000\n",
       "Condominium     Private room    Pull-out Sofa  65.000000\n",
       "Dorm            Private room    Real Bed       62.500000\n",
       "House           Shared room     Couch          61.000000\n",
       "Apartment       Private room    Airbed         60.960000\n",
       "Camper/RV       Entire home/apt Real Bed       60.000000\n",
       "House           Shared room     Real Bed       59.833333\n",
       "                Entire home/apt Futon          55.000000\n",
       "Apartment       Shared room     Futon          54.750000\n",
       "Condominium     Shared room     Real Bed       51.000000\n",
       "Townhouse       Private room    Futon          48.000000\n",
       "Bed & Breakfast Shared room     Real Bed       44.000000\n",
       "Loft            Private room    Airbed         30.000000"
      ]
     },
     "execution_count": 29,
     "metadata": {},
     "output_type": "execute_result"
    }
   ],
   "source": [
    "#Property type Other with Shared rooms with airbed have the highest average price and Loft with private rooms with airbed have the least average prices\n",
    "B_listings[['property_type','room_type','bed_type','price']].groupby(['property_type','room_type','bed_type']).mean().sort_values(by='price', ascending=False)"
   ]
  },
  {
   "cell_type": "markdown",
   "metadata": {},
   "source": [
    "##### Reviews EDA"
   ]
  },
  {
   "cell_type": "code",
   "execution_count": 30,
   "metadata": {},
   "outputs": [
    {
     "data": {
      "text/plain": [
       "2016    30024\n",
       "2015    23814\n",
       "2014     9272\n",
       "2013     2965\n",
       "2012     1316\n",
       "2011      664\n",
       "2010      200\n",
       "2009       20\n",
       "Name: year, dtype: int64"
      ]
     },
     "execution_count": 30,
     "metadata": {},
     "output_type": "execute_result"
    }
   ],
   "source": [
    "#2016 has the most reviews, from 2014 to 2015 review had exponential growth\n",
    "B_reviews.year.value_counts()"
   ]
  },
  {
   "cell_type": "code",
   "execution_count": 31,
   "metadata": {},
   "outputs": [
    {
     "data": {
      "text/plain": [
       "08    10345\n",
       "07     9333\n",
       "06     8369\n",
       "05     8115\n",
       "04     6116\n",
       "10     6095\n",
       "09     5985\n",
       "03     3853\n",
       "11     3729\n",
       "12     2252\n",
       "01     2119\n",
       "02     1964\n",
       "Name: month, dtype: int64"
      ]
     },
     "execution_count": 31,
     "metadata": {},
     "output_type": "execute_result"
    }
   ],
   "source": [
    "B_reviews.month.value_counts()"
   ]
  },
  {
   "cell_type": "code",
   "execution_count": 32,
   "metadata": {},
   "outputs": [
    {
     "data": {
      "text/plain": [
       "19    2635\n",
       "01    2452\n",
       "24    2430\n",
       "05    2420\n",
       "22    2393\n",
       "21    2366\n",
       "20    2332\n",
       "08    2330\n",
       "15    2312\n",
       "17    2284\n",
       "25    2282\n",
       "18    2274\n",
       "28    2232\n",
       "12    2224\n",
       "16    2216\n",
       "29    2198\n",
       "27    2188\n",
       "10    2156\n",
       "23    2153\n",
       "07    2146\n",
       "13    2144\n",
       "04    2136\n",
       "14    2131\n",
       "09    2129\n",
       "30    2125\n",
       "11    2118\n",
       "02    2102\n",
       "06    2102\n",
       "26    2047\n",
       "03    1878\n",
       "31    1340\n",
       "Name: day, dtype: int64"
      ]
     },
     "execution_count": 32,
     "metadata": {},
     "output_type": "execute_result"
    }
   ],
   "source": [
    "B_reviews.day.value_counts()"
   ]
  },
  {
   "cell_type": "code",
   "execution_count": 33,
   "metadata": {},
   "outputs": [],
   "source": [
    "B_reviews_eda = B_reviews[B_reviews.year=='2016']\n",
    "B_calendar_eda = B_calendar[B_calendar.year=='2016']"
   ]
  },
  {
   "cell_type": "code",
   "execution_count": 34,
   "metadata": {},
   "outputs": [],
   "source": [
    "#cal_rev_list = .merge(,on=\"listing_id\")\n",
    "cal_rev_list = pd.concat([B_reviews_eda, B_calendar_eda], axis=1, join=\"inner\")"
   ]
  },
  {
   "cell_type": "code",
   "execution_count": 35,
   "metadata": {},
   "outputs": [
    {
     "data": {
      "text/plain": [
       "(30024, 9)"
      ]
     },
     "execution_count": 35,
     "metadata": {},
     "output_type": "execute_result"
    }
   ],
   "source": [
    "#2016 had 30024 reviews\n",
    "B_reviews_eda.shape"
   ]
  },
  {
   "cell_type": "code",
   "execution_count": 36,
   "metadata": {},
   "outputs": [],
   "source": [
    "review_results_ = pd.DataFrame()"
   ]
  },
  {
   "cell_type": "code",
   "execution_count": 37,
   "metadata": {},
   "outputs": [],
   "source": [
    "#Dropping null comments\n",
    "cal_rev_list.dropna(subset=['comments'], inplace=True)"
   ]
  },
  {
   "cell_type": "code",
   "execution_count": 38,
   "metadata": {},
   "outputs": [],
   "source": [
    "#Computing sentiment mood and polarity for reviews in 2016\n",
    "for item in cal_rev_list.comments :\n",
    "    blob = TextBlob(item)\n",
    "    polarity = blob.sentiment.polarity\n",
    "    if polarity > 0:\n",
    "        sentiment_mood =  \"Positive\"\n",
    "    elif polarity < 0:\n",
    "        sentiment_mood =  \"Negative\"\n",
    "    else:\n",
    "        sentiment_mood =  \" Neutral\"\n",
    "    item_ = [{\"Review_mood\":sentiment_mood,\"polarity\":polarity,\"text\":item}]\n",
    "    review_results_ = review_results_.append(item_, ignore_index=True)"
   ]
  },
  {
   "cell_type": "code",
   "execution_count": 88,
   "metadata": {},
   "outputs": [
    {
     "data": {
      "text/html": [
       "<div>\n",
       "<style scoped>\n",
       "    .dataframe tbody tr th:only-of-type {\n",
       "        vertical-align: middle;\n",
       "    }\n",
       "\n",
       "    .dataframe tbody tr th {\n",
       "        vertical-align: top;\n",
       "    }\n",
       "\n",
       "    .dataframe thead th {\n",
       "        text-align: right;\n",
       "    }\n",
       "</style>\n",
       "<table border=\"1\" class=\"dataframe\">\n",
       "  <thead>\n",
       "    <tr style=\"text-align: right;\">\n",
       "      <th></th>\n",
       "      <th>Review_mood</th>\n",
       "      <th>polarity</th>\n",
       "    </tr>\n",
       "    <tr>\n",
       "      <th>Review_mood</th>\n",
       "      <th></th>\n",
       "      <th></th>\n",
       "    </tr>\n",
       "  </thead>\n",
       "  <tbody>\n",
       "    <tr>\n",
       "      <th>Neutral</th>\n",
       "      <td>563</td>\n",
       "      <td>0.000000</td>\n",
       "    </tr>\n",
       "    <tr>\n",
       "      <th>Negative</th>\n",
       "      <td>131</td>\n",
       "      <td>-0.174340</td>\n",
       "    </tr>\n",
       "    <tr>\n",
       "      <th>Positive</th>\n",
       "      <td>8982</td>\n",
       "      <td>0.407853</td>\n",
       "    </tr>\n",
       "  </tbody>\n",
       "</table>\n",
       "</div>"
      ],
      "text/plain": [
       "             Review_mood  polarity\n",
       "Review_mood                       \n",
       " Neutral             563  0.000000\n",
       "Negative             131 -0.174340\n",
       "Positive            8982  0.407853"
      ]
     },
     "execution_count": 88,
     "metadata": {},
     "output_type": "execute_result"
    }
   ],
   "source": [
    "#92% of reviews were positive\n",
    "review_results_.groupby(['Review_mood']).agg({'Review_mood': 'count', 'polarity': 'mean'})"
   ]
  },
  {
   "cell_type": "markdown",
   "metadata": {},
   "source": [
    "# Preparing Data"
   ]
  },
  {
   "cell_type": "code",
   "execution_count": 40,
   "metadata": {},
   "outputs": [],
   "source": [
    "#Function shows percentage of missing values in a dataframe form\n",
    "def missing_value_percentages(df) :\n",
    "    percent_missing = df.isnull().sum() * 100 / len(df)\n",
    "    missing_value_df = pd.DataFrame({'column_name': df.columns,\n",
    "                                    'percent_missing': percent_missing})\n",
    "    return missing_value_df"
   ]
  },
  {
   "cell_type": "code",
   "execution_count": 41,
   "metadata": {},
   "outputs": [],
   "source": [
    "B_calendar_missing = missing_value_percentages(B_calendar)"
   ]
  },
  {
   "cell_type": "code",
   "execution_count": 42,
   "metadata": {},
   "outputs": [],
   "source": [
    "B_listings_missing = missing_value_percentages(B_listings)"
   ]
  },
  {
   "cell_type": "code",
   "execution_count": 43,
   "metadata": {},
   "outputs": [],
   "source": [
    "B_reviews_missing = missing_value_percentages(B_reviews)"
   ]
  },
  {
   "cell_type": "code",
   "execution_count": 44,
   "metadata": {},
   "outputs": [
    {
     "data": {
      "text/html": [
       "<div>\n",
       "<style scoped>\n",
       "    .dataframe tbody tr th:only-of-type {\n",
       "        vertical-align: middle;\n",
       "    }\n",
       "\n",
       "    .dataframe tbody tr th {\n",
       "        vertical-align: top;\n",
       "    }\n",
       "\n",
       "    .dataframe thead th {\n",
       "        text-align: right;\n",
       "    }\n",
       "</style>\n",
       "<table border=\"1\" class=\"dataframe\">\n",
       "  <thead>\n",
       "    <tr style=\"text-align: right;\">\n",
       "      <th></th>\n",
       "      <th>column_name</th>\n",
       "      <th>percent_missing</th>\n",
       "    </tr>\n",
       "  </thead>\n",
       "  <tbody>\n",
       "    <tr>\n",
       "      <th>price</th>\n",
       "      <td>price</td>\n",
       "      <td>50.871578</td>\n",
       "    </tr>\n",
       "  </tbody>\n",
       "</table>\n",
       "</div>"
      ],
      "text/plain": [
       "      column_name  percent_missing\n",
       "price       price        50.871578"
      ]
     },
     "execution_count": 44,
     "metadata": {},
     "output_type": "execute_result"
    }
   ],
   "source": [
    "#columns with missing values\n",
    "B_calendar_missing[B_calendar_missing.percent_missing>0]"
   ]
  },
  {
   "cell_type": "code",
   "execution_count": 45,
   "metadata": {},
   "outputs": [
    {
     "data": {
      "text/html": [
       "<div>\n",
       "<style scoped>\n",
       "    .dataframe tbody tr th:only-of-type {\n",
       "        vertical-align: middle;\n",
       "    }\n",
       "\n",
       "    .dataframe tbody tr th {\n",
       "        vertical-align: top;\n",
       "    }\n",
       "\n",
       "    .dataframe thead th {\n",
       "        text-align: right;\n",
       "    }\n",
       "</style>\n",
       "<table border=\"1\" class=\"dataframe\">\n",
       "  <thead>\n",
       "    <tr style=\"text-align: right;\">\n",
       "      <th></th>\n",
       "      <th>column_name</th>\n",
       "      <th>percent_missing</th>\n",
       "    </tr>\n",
       "  </thead>\n",
       "  <tbody>\n",
       "    <tr>\n",
       "      <th>comments</th>\n",
       "      <td>comments</td>\n",
       "      <td>0.077627</td>\n",
       "    </tr>\n",
       "  </tbody>\n",
       "</table>\n",
       "</div>"
      ],
      "text/plain": [
       "         column_name  percent_missing\n",
       "comments    comments         0.077627"
      ]
     },
     "execution_count": 45,
     "metadata": {},
     "output_type": "execute_result"
    }
   ],
   "source": [
    "#columns with missing values\n",
    "B_reviews_missing[B_reviews_missing.percent_missing>0]"
   ]
  },
  {
   "cell_type": "code",
   "execution_count": 46,
   "metadata": {},
   "outputs": [
    {
     "data": {
      "text/html": [
       "<div>\n",
       "<style scoped>\n",
       "    .dataframe tbody tr th:only-of-type {\n",
       "        vertical-align: middle;\n",
       "    }\n",
       "\n",
       "    .dataframe tbody tr th {\n",
       "        vertical-align: top;\n",
       "    }\n",
       "\n",
       "    .dataframe thead th {\n",
       "        text-align: right;\n",
       "    }\n",
       "</style>\n",
       "<table border=\"1\" class=\"dataframe\">\n",
       "  <thead>\n",
       "    <tr style=\"text-align: right;\">\n",
       "      <th></th>\n",
       "      <th>column_name</th>\n",
       "      <th>percent_missing</th>\n",
       "    </tr>\n",
       "  </thead>\n",
       "  <tbody>\n",
       "    <tr>\n",
       "      <th>neighbourhood_group_cleansed</th>\n",
       "      <td>neighbourhood_group_cleansed</td>\n",
       "      <td>100.000000</td>\n",
       "    </tr>\n",
       "    <tr>\n",
       "      <th>license</th>\n",
       "      <td>license</td>\n",
       "      <td>100.000000</td>\n",
       "    </tr>\n",
       "    <tr>\n",
       "      <th>has_availability</th>\n",
       "      <td>has_availability</td>\n",
       "      <td>100.000000</td>\n",
       "    </tr>\n",
       "    <tr>\n",
       "      <th>jurisdiction_names</th>\n",
       "      <td>jurisdiction_names</td>\n",
       "      <td>100.000000</td>\n",
       "    </tr>\n",
       "    <tr>\n",
       "      <th>square_feet</th>\n",
       "      <td>square_feet</td>\n",
       "      <td>98.437936</td>\n",
       "    </tr>\n",
       "    <tr>\n",
       "      <th>monthly_price</th>\n",
       "      <td>monthly_price</td>\n",
       "      <td>75.230126</td>\n",
       "    </tr>\n",
       "    <tr>\n",
       "      <th>weekly_price</th>\n",
       "      <td>weekly_price</td>\n",
       "      <td>75.118550</td>\n",
       "    </tr>\n",
       "    <tr>\n",
       "      <th>security_deposit</th>\n",
       "      <td>security_deposit</td>\n",
       "      <td>62.566248</td>\n",
       "    </tr>\n",
       "    <tr>\n",
       "      <th>notes</th>\n",
       "      <td>notes</td>\n",
       "      <td>55.090656</td>\n",
       "    </tr>\n",
       "    <tr>\n",
       "      <th>interaction</th>\n",
       "      <td>interaction</td>\n",
       "      <td>43.347280</td>\n",
       "    </tr>\n",
       "    <tr>\n",
       "      <th>access</th>\n",
       "      <td>access</td>\n",
       "      <td>41.534170</td>\n",
       "    </tr>\n",
       "    <tr>\n",
       "      <th>neighborhood_overview</th>\n",
       "      <td>neighborhood_overview</td>\n",
       "      <td>39.470014</td>\n",
       "    </tr>\n",
       "    <tr>\n",
       "      <th>host_about</th>\n",
       "      <td>host_about</td>\n",
       "      <td>36.513250</td>\n",
       "    </tr>\n",
       "    <tr>\n",
       "      <th>transit</th>\n",
       "      <td>transit</td>\n",
       "      <td>35.983264</td>\n",
       "    </tr>\n",
       "    <tr>\n",
       "      <th>house_rules</th>\n",
       "      <td>house_rules</td>\n",
       "      <td>33.249651</td>\n",
       "    </tr>\n",
       "    <tr>\n",
       "      <th>space</th>\n",
       "      <td>space</td>\n",
       "      <td>29.483961</td>\n",
       "    </tr>\n",
       "    <tr>\n",
       "      <th>review_scores_accuracy</th>\n",
       "      <td>review_scores_accuracy</td>\n",
       "      <td>22.956764</td>\n",
       "    </tr>\n",
       "    <tr>\n",
       "      <th>review_scores_location</th>\n",
       "      <td>review_scores_location</td>\n",
       "      <td>22.928870</td>\n",
       "    </tr>\n",
       "    <tr>\n",
       "      <th>review_scores_value</th>\n",
       "      <td>review_scores_value</td>\n",
       "      <td>22.900976</td>\n",
       "    </tr>\n",
       "    <tr>\n",
       "      <th>review_scores_checkin</th>\n",
       "      <td>review_scores_checkin</td>\n",
       "      <td>22.873082</td>\n",
       "    </tr>\n",
       "    <tr>\n",
       "      <th>review_scores_cleanliness</th>\n",
       "      <td>review_scores_cleanliness</td>\n",
       "      <td>22.817294</td>\n",
       "    </tr>\n",
       "    <tr>\n",
       "      <th>review_scores_communication</th>\n",
       "      <td>review_scores_communication</td>\n",
       "      <td>22.817294</td>\n",
       "    </tr>\n",
       "    <tr>\n",
       "      <th>review_scores_rating</th>\n",
       "      <td>review_scores_rating</td>\n",
       "      <td>22.677824</td>\n",
       "    </tr>\n",
       "    <tr>\n",
       "      <th>first_review</th>\n",
       "      <td>first_review</td>\n",
       "      <td>21.087866</td>\n",
       "    </tr>\n",
       "    <tr>\n",
       "      <th>last_review</th>\n",
       "      <td>last_review</td>\n",
       "      <td>21.087866</td>\n",
       "    </tr>\n",
       "    <tr>\n",
       "      <th>reviews_per_month</th>\n",
       "      <td>reviews_per_month</td>\n",
       "      <td>21.087866</td>\n",
       "    </tr>\n",
       "    <tr>\n",
       "      <th>xl_picture_url</th>\n",
       "      <td>xl_picture_url</td>\n",
       "      <td>16.708508</td>\n",
       "    </tr>\n",
       "    <tr>\n",
       "      <th>medium_url</th>\n",
       "      <td>medium_url</td>\n",
       "      <td>16.708508</td>\n",
       "    </tr>\n",
       "    <tr>\n",
       "      <th>thumbnail_url</th>\n",
       "      <td>thumbnail_url</td>\n",
       "      <td>16.708508</td>\n",
       "    </tr>\n",
       "    <tr>\n",
       "      <th>neighbourhood</th>\n",
       "      <td>neighbourhood</td>\n",
       "      <td>15.146444</td>\n",
       "    </tr>\n",
       "    <tr>\n",
       "      <th>host_acceptance_rate</th>\n",
       "      <td>host_acceptance_rate</td>\n",
       "      <td>13.138075</td>\n",
       "    </tr>\n",
       "    <tr>\n",
       "      <th>host_response_rate</th>\n",
       "      <td>host_response_rate</td>\n",
       "      <td>13.138075</td>\n",
       "    </tr>\n",
       "    <tr>\n",
       "      <th>host_response_time</th>\n",
       "      <td>host_response_time</td>\n",
       "      <td>13.138075</td>\n",
       "    </tr>\n",
       "    <tr>\n",
       "      <th>host_neighbourhood</th>\n",
       "      <td>host_neighbourhood</td>\n",
       "      <td>9.456067</td>\n",
       "    </tr>\n",
       "    <tr>\n",
       "      <th>summary</th>\n",
       "      <td>summary</td>\n",
       "      <td>3.988842</td>\n",
       "    </tr>\n",
       "    <tr>\n",
       "      <th>zipcode</th>\n",
       "      <td>zipcode</td>\n",
       "      <td>1.059972</td>\n",
       "    </tr>\n",
       "    <tr>\n",
       "      <th>bathrooms</th>\n",
       "      <td>bathrooms</td>\n",
       "      <td>0.390516</td>\n",
       "    </tr>\n",
       "    <tr>\n",
       "      <th>market</th>\n",
       "      <td>market</td>\n",
       "      <td>0.390516</td>\n",
       "    </tr>\n",
       "    <tr>\n",
       "      <th>host_location</th>\n",
       "      <td>host_location</td>\n",
       "      <td>0.306834</td>\n",
       "    </tr>\n",
       "    <tr>\n",
       "      <th>bedrooms</th>\n",
       "      <td>bedrooms</td>\n",
       "      <td>0.278940</td>\n",
       "    </tr>\n",
       "    <tr>\n",
       "      <th>beds</th>\n",
       "      <td>beds</td>\n",
       "      <td>0.251046</td>\n",
       "    </tr>\n",
       "    <tr>\n",
       "      <th>property_type</th>\n",
       "      <td>property_type</td>\n",
       "      <td>0.083682</td>\n",
       "    </tr>\n",
       "    <tr>\n",
       "      <th>city</th>\n",
       "      <td>city</td>\n",
       "      <td>0.055788</td>\n",
       "    </tr>\n",
       "  </tbody>\n",
       "</table>\n",
       "</div>"
      ],
      "text/plain": [
       "                                               column_name  percent_missing\n",
       "neighbourhood_group_cleansed  neighbourhood_group_cleansed       100.000000\n",
       "license                                            license       100.000000\n",
       "has_availability                          has_availability       100.000000\n",
       "jurisdiction_names                      jurisdiction_names       100.000000\n",
       "square_feet                                    square_feet        98.437936\n",
       "monthly_price                                monthly_price        75.230126\n",
       "weekly_price                                  weekly_price        75.118550\n",
       "security_deposit                          security_deposit        62.566248\n",
       "notes                                                notes        55.090656\n",
       "interaction                                    interaction        43.347280\n",
       "access                                              access        41.534170\n",
       "neighborhood_overview                neighborhood_overview        39.470014\n",
       "host_about                                      host_about        36.513250\n",
       "transit                                            transit        35.983264\n",
       "house_rules                                    house_rules        33.249651\n",
       "space                                                space        29.483961\n",
       "review_scores_accuracy              review_scores_accuracy        22.956764\n",
       "review_scores_location              review_scores_location        22.928870\n",
       "review_scores_value                    review_scores_value        22.900976\n",
       "review_scores_checkin                review_scores_checkin        22.873082\n",
       "review_scores_cleanliness        review_scores_cleanliness        22.817294\n",
       "review_scores_communication    review_scores_communication        22.817294\n",
       "review_scores_rating                  review_scores_rating        22.677824\n",
       "first_review                                  first_review        21.087866\n",
       "last_review                                    last_review        21.087866\n",
       "reviews_per_month                        reviews_per_month        21.087866\n",
       "xl_picture_url                              xl_picture_url        16.708508\n",
       "medium_url                                      medium_url        16.708508\n",
       "thumbnail_url                                thumbnail_url        16.708508\n",
       "neighbourhood                                neighbourhood        15.146444\n",
       "host_acceptance_rate                  host_acceptance_rate        13.138075\n",
       "host_response_rate                      host_response_rate        13.138075\n",
       "host_response_time                      host_response_time        13.138075\n",
       "host_neighbourhood                      host_neighbourhood         9.456067\n",
       "summary                                            summary         3.988842\n",
       "zipcode                                            zipcode         1.059972\n",
       "bathrooms                                        bathrooms         0.390516\n",
       "market                                              market         0.390516\n",
       "host_location                                host_location         0.306834\n",
       "bedrooms                                          bedrooms         0.278940\n",
       "beds                                                  beds         0.251046\n",
       "property_type                                property_type         0.083682\n",
       "city                                                  city         0.055788"
      ]
     },
     "execution_count": 46,
     "metadata": {},
     "output_type": "execute_result"
    }
   ],
   "source": [
    "#neighbourhood_group_cleansed,license,has_availability,jurisdiction_names,square_feet has no values\n",
    "B_listings_missing[B_listings_missing.percent_missing>0].sort_values(by='percent_missing', ascending=False)"
   ]
  },
  {
   "cell_type": "code",
   "execution_count": 47,
   "metadata": {},
   "outputs": [
    {
     "data": {
      "text/html": [
       "<div>\n",
       "<style scoped>\n",
       "    .dataframe tbody tr th:only-of-type {\n",
       "        vertical-align: middle;\n",
       "    }\n",
       "\n",
       "    .dataframe tbody tr th {\n",
       "        vertical-align: top;\n",
       "    }\n",
       "\n",
       "    .dataframe thead th {\n",
       "        text-align: right;\n",
       "    }\n",
       "</style>\n",
       "<table border=\"1\" class=\"dataframe\">\n",
       "  <thead>\n",
       "    <tr style=\"text-align: right;\">\n",
       "      <th></th>\n",
       "      <th>column_name</th>\n",
       "      <th>percent_missing</th>\n",
       "    </tr>\n",
       "  </thead>\n",
       "  <tbody>\n",
       "    <tr>\n",
       "      <th>neighbourhood_group_cleansed</th>\n",
       "      <td>neighbourhood_group_cleansed</td>\n",
       "      <td>100.000000</td>\n",
       "    </tr>\n",
       "    <tr>\n",
       "      <th>square_feet</th>\n",
       "      <td>square_feet</td>\n",
       "      <td>98.437936</td>\n",
       "    </tr>\n",
       "    <tr>\n",
       "      <th>weekly_price</th>\n",
       "      <td>weekly_price</td>\n",
       "      <td>75.118550</td>\n",
       "    </tr>\n",
       "    <tr>\n",
       "      <th>monthly_price</th>\n",
       "      <td>monthly_price</td>\n",
       "      <td>75.230126</td>\n",
       "    </tr>\n",
       "    <tr>\n",
       "      <th>security_deposit</th>\n",
       "      <td>security_deposit</td>\n",
       "      <td>62.566248</td>\n",
       "    </tr>\n",
       "    <tr>\n",
       "      <th>has_availability</th>\n",
       "      <td>has_availability</td>\n",
       "      <td>100.000000</td>\n",
       "    </tr>\n",
       "    <tr>\n",
       "      <th>license</th>\n",
       "      <td>license</td>\n",
       "      <td>100.000000</td>\n",
       "    </tr>\n",
       "    <tr>\n",
       "      <th>jurisdiction_names</th>\n",
       "      <td>jurisdiction_names</td>\n",
       "      <td>100.000000</td>\n",
       "    </tr>\n",
       "  </tbody>\n",
       "</table>\n",
       "</div>"
      ],
      "text/plain": [
       "                                               column_name  percent_missing\n",
       "neighbourhood_group_cleansed  neighbourhood_group_cleansed       100.000000\n",
       "square_feet                                    square_feet        98.437936\n",
       "weekly_price                                  weekly_price        75.118550\n",
       "monthly_price                                monthly_price        75.230126\n",
       "security_deposit                          security_deposit        62.566248\n",
       "has_availability                          has_availability       100.000000\n",
       "license                                            license       100.000000\n",
       "jurisdiction_names                      jurisdiction_names       100.000000"
      ]
     },
     "execution_count": 47,
     "metadata": {},
     "output_type": "execute_result"
    }
   ],
   "source": [
    "#columns missing more than 60% of data\n",
    "B_listings_missing[B_listings_missing.percent_missing>=60]"
   ]
  },
  {
   "cell_type": "code",
   "execution_count": 48,
   "metadata": {},
   "outputs": [],
   "source": [
    "#dropping columns with more than 60%\n",
    "B_listings.drop(['neighbourhood_group_cleansed','square_feet','weekly_price','monthly_price','security_deposit','has_availability','license','jurisdiction_names'],axis=1,inplace=True)"
   ]
  },
  {
   "cell_type": "code",
   "execution_count": 49,
   "metadata": {},
   "outputs": [],
   "source": [
    "B_listings.rename(columns={'price': 'listing_price'}, inplace=True)"
   ]
  },
  {
   "cell_type": "code",
   "execution_count": 50,
   "metadata": {},
   "outputs": [],
   "source": [
    "#Identifying numerical values\n",
    "#code line from chatgpt\n",
    "B_listings_numerical_columns = B_listings.select_dtypes(include=['number'])"
   ]
  },
  {
   "cell_type": "code",
   "execution_count": 51,
   "metadata": {},
   "outputs": [],
   "source": [
    "#creating a dataframe of numerical values\n",
    "B_listings_numerical = B_listings[list(B_listings_numerical_columns)]\n"
   ]
  },
  {
   "cell_type": "code",
   "execution_count": 52,
   "metadata": {},
   "outputs": [],
   "source": [
    "#creating a dataframe of categorical values\n",
    "B_listings_categorical = B_listings.drop(B_listings_numerical,axis=1)"
   ]
  },
  {
   "cell_type": "code",
   "execution_count": 53,
   "metadata": {},
   "outputs": [],
   "source": [
    "B_listings_categorical['id'] = B_listings['id']"
   ]
  },
  {
   "cell_type": "code",
   "execution_count": 54,
   "metadata": {},
   "outputs": [
    {
     "data": {
      "text/plain": [
       "(3585, 31)"
      ]
     },
     "execution_count": 54,
     "metadata": {},
     "output_type": "execute_result"
    }
   ],
   "source": [
    "#We have 31 numerical columns from listing data\n",
    "B_listings_numerical.shape"
   ]
  },
  {
   "cell_type": "code",
   "execution_count": 55,
   "metadata": {},
   "outputs": [
    {
     "data": {
      "text/plain": [
       "(3585, 57)"
      ]
     },
     "execution_count": 55,
     "metadata": {},
     "output_type": "execute_result"
    }
   ],
   "source": [
    "#We have 57 categorical columns from listing data\n",
    "B_listings_categorical.shape"
   ]
  },
  {
   "cell_type": "code",
   "execution_count": 57,
   "metadata": {},
   "outputs": [],
   "source": [
    "#Imputing bedrooms,beds, and bathrooms with mean of colums because they cannot assume value 0\n",
    "B_listings_numerical.bedrooms = B_listings_numerical.bedrooms.fillna(B_listings_numerical.bedrooms.mean())\n",
    "B_listings_numerical.beds = B_listings_numerical.beds.fillna(B_listings_numerical.beds.mean())\n",
    "B_listings_numerical.bathrooms = B_listings_numerical.bathrooms.fillna(B_listings_numerical.bathrooms.mean())\n",
    "#imputing all other remaining missing columns with 0\n",
    "B_listings_numerical = B_listings_numerical.fillna(0)"
   ]
  },
  {
   "cell_type": "code",
   "execution_count": 58,
   "metadata": {},
   "outputs": [],
   "source": [
    "#merging categorical data and numerical data\n",
    "cat_num_B_listings = B_listings_categorical.merge(B_listings_numerical,on=\"id\")"
   ]
  },
  {
   "cell_type": "code",
   "execution_count": 59,
   "metadata": {},
   "outputs": [],
   "source": [
    "#picking 2016 year available calendar listings \n",
    "B_calendar = B_calendar[(B_calendar.year=='2016') & (B_calendar.available=='t')]"
   ]
  },
  {
   "cell_type": "code",
   "execution_count": 60,
   "metadata": {},
   "outputs": [],
   "source": [
    "#Imputing price with 0\n",
    "B_calendar['price'] = B_calendar['price'].fillna(0)"
   ]
  },
  {
   "cell_type": "code",
   "execution_count": 61,
   "metadata": {},
   "outputs": [],
   "source": [
    "#Dropping null rows in the column comments\n",
    "B_reviews.dropna(subset=['comments'], inplace=True)"
   ]
  },
  {
   "cell_type": "code",
   "execution_count": 62,
   "metadata": {},
   "outputs": [],
   "source": [
    "cat_num_B_listings.rename(columns={'id': 'listing_id'}, inplace=True)"
   ]
  },
  {
   "cell_type": "code",
   "execution_count": 63,
   "metadata": {},
   "outputs": [],
   "source": [
    "#merging listing with calendar\n",
    "listings_calendar = B_calendar.merge(cat_num_B_listings,on=\"listing_id\")"
   ]
  },
  {
   "cell_type": "code",
   "execution_count": 64,
   "metadata": {},
   "outputs": [
    {
     "data": {
      "text/plain": [
       "(190631, 93)"
      ]
     },
     "execution_count": 64,
     "metadata": {},
     "output_type": "execute_result"
    }
   ],
   "source": [
    "listings_calendar.shape"
   ]
  },
  {
   "cell_type": "code",
   "execution_count": 65,
   "metadata": {},
   "outputs": [],
   "source": [
    "#casting day to integer\n",
    "listings_calendar['day'] = listings_calendar['day'].astype(int)"
   ]
  },
  {
   "cell_type": "code",
   "execution_count": 66,
   "metadata": {},
   "outputs": [],
   "source": [
    "#casting month to integer\n",
    "listings_calendar['month'] = listings_calendar['month'].astype(int)"
   ]
  },
  {
   "cell_type": "code",
   "execution_count": 67,
   "metadata": {},
   "outputs": [],
   "source": [
    "#casting year to integer\n",
    "listings_calendar['year'] = listings_calendar['year'].astype(int)"
   ]
  },
  {
   "cell_type": "code",
   "execution_count": 68,
   "metadata": {},
   "outputs": [],
   "source": [
    "listings_calendar_ = listings_calendar.copy()"
   ]
  },
  {
   "cell_type": "code",
   "execution_count": 69,
   "metadata": {},
   "outputs": [],
   "source": [
    "#exporting correlations\n",
    "listings_calendar.drop([\"listing_id\",\"date\"],axis=1).corr()['listing_price'].to_csv(\"correlations_price.csv\")"
   ]
  },
  {
   "cell_type": "code",
   "execution_count": 70,
   "metadata": {},
   "outputs": [],
   "source": [
    "#predictors, variables with correlation greater than 0.2\n",
    "predictors_target = ['host_listings_count','host_total_listings_count','latitude','price','accommodates','bathrooms','bedrooms','beds','listing_price','cleaning_fee','guests_included','extra_people']"
   ]
  },
  {
   "cell_type": "code",
   "execution_count": 71,
   "metadata": {},
   "outputs": [
    {
     "data": {
      "image/png": "[encoded data removed]",
      "text/plain": [
       "<Figure size 800x800 with 2 Axes>"
      ]
     },
     "metadata": {},
     "output_type": "display_data"
    }
   ],
   "source": [
    "#visualizing correlations\n",
    "import dython\n",
    "from dython.nominal import associations\n",
    "from dython.nominal import identify_nominal_columns\n",
    "categorical_features = identify_nominal_columns(listings_calendar_[predictors_target])\n",
    "\n",
    "associations(listings_calendar_[predictors_target], \n",
    "            nominal_columns='auto', numerical_columns=None, mark_columns=False, nom_nom_assoc='cramer', num_num_assoc='pearson',  \n",
    "            ax=None, annot=True, fmt='.2f',cmap=None, sv_color='silver', cbar=True, vmax=1.0, vmin=None, plot=True, \n",
    "            compute_only=False, clustering=False, title=None, filename=None, \n",
    "            figsize=(8,8));"
   ]
  },
  {
   "cell_type": "code",
   "execution_count": 72,
   "metadata": {},
   "outputs": [],
   "source": [
    "#dropping duplicating columns\n",
    "listings_calendar = listings_calendar.drop_duplicates()"
   ]
  },
  {
   "cell_type": "code",
   "execution_count": 73,
   "metadata": {},
   "outputs": [],
   "source": [
    "#picking training data\n",
    "training_data = listings_calendar_[predictors_target]"
   ]
  },
  {
   "cell_type": "code",
   "execution_count": 74,
   "metadata": {},
   "outputs": [
    {
     "data": {
      "text/plain": [
       "(190631, 12)"
      ]
     },
     "execution_count": 74,
     "metadata": {},
     "output_type": "execute_result"
    }
   ],
   "source": [
    "#training data has 190k rows and 12 columns\n",
    "training_data.shape"
   ]
  },
  {
   "cell_type": "markdown",
   "metadata": {},
   "source": [
    "# Data Modelling"
   ]
  },
  {
   "cell_type": "markdown",
   "metadata": {},
   "source": [
    "##### The proposed model to be used is random forest regessor as we are solving a regession problem because of it's accuracy and ability to be able to handle outliers. I also is able to handle over-fitting."
   ]
  },
  {
   "cell_type": "code",
   "execution_count": 75,
   "metadata": {},
   "outputs": [],
   "source": [
    "#picking predictors\n",
    "X = training_data.drop('listing_price',axis=1)"
   ]
  },
  {
   "cell_type": "code",
   "execution_count": 76,
   "metadata": {},
   "outputs": [],
   "source": [
    "#picking target\n",
    "y = training_data['listing_price']"
   ]
  },
  {
   "cell_type": "code",
   "execution_count": 77,
   "metadata": {},
   "outputs": [],
   "source": [
    "#normalizing our data using min-max scaler\n",
    "mms = MinMaxScaler()\n",
    "mms.fit(X)\n",
    "data_transformed = mms.transform(X)"
   ]
  },
  {
   "cell_type": "code",
   "execution_count": 78,
   "metadata": {},
   "outputs": [],
   "source": [
    "#splitting data into training and test data\n",
    "train_X, test_X, train_Y, test_Y = train_test_split(data_transformed,y, test_size = 0.2,random_state=2)"
   ]
  },
  {
   "cell_type": "code",
   "execution_count": 79,
   "metadata": {},
   "outputs": [
    {
     "name": "stdout",
     "output_type": "stream",
     "text": [
      "Initializing model...\n",
      "Done initializing model!\n",
      "Training model...\n",
      "Done training model!\n",
      "Predicting on train and test...\n",
      "Done predicting on train and test!\n"
     ]
    }
   ],
   "source": [
    "#training our model\n",
    "print('Initializing model...')\n",
    "rf = RandomForestRegressor(n_estimators = 400, max_features = 'log2', max_depth = 7, random_state = 18)\n",
    "print('Done initializing model!')\n",
    "print('Training model...')\n",
    "rf.fit(train_X, train_Y)\n",
    "print('Done training model!')\n",
    "print('Predicting on train and test...')\n",
    "pred_train_rr= rf.predict(train_X)\n",
    "pred_test_rr= rf.predict(test_X)\n",
    "print('Done predicting on train and test!')"
   ]
  },
  {
   "cell_type": "markdown",
   "metadata": {},
   "source": [
    "# Evaluating Results"
   ]
  },
  {
   "cell_type": "code",
   "execution_count": 80,
   "metadata": {},
   "outputs": [
    {
     "name": "stdout",
     "output_type": "stream",
     "text": [
      "MAE - Training : 4.71051879822275\n",
      "R2 - Training : 0.9967440040680249\n",
      "-------------------------\n",
      "MAE - Test : 4.710526099298613\n",
      "R2 - Test : 0.9968834240545186\n"
     ]
    }
   ],
   "source": [
    "#Checking f our two metrics are consistent on both training and test data, if they are we can assume that our model does not overfit.\n",
    "print('MAE - Training :',metrics.mean_absolute_error(train_Y,pred_train_rr))\n",
    "print('R2 - Training :',r2_score(train_Y, pred_train_rr))\n",
    "print('-------------------------')\n",
    "print('MAE - Test :',metrics.mean_absolute_error(test_Y,pred_test_rr))\n",
    "print('R2 - Test :',r2_score(test_Y, pred_test_rr))"
   ]
  },
  {
   "cell_type": "code",
   "execution_count": 81,
   "metadata": {},
   "outputs": [
    {
     "name": "stdout",
     "output_type": "stream",
     "text": [
      "Cross Validation Scores are [0.99350553 0.97011684 0.97744983 0.63723453 0.98770561]\n",
      "Average Cross Validation score :0.9132024676708191\n"
     ]
    }
   ],
   "source": [
    "#Perfoming cross validation with 5 splits of data gives consistent scores which give us comfort in assuming that the model does not overfit\n",
    "from sklearn.model_selection import cross_val_score,KFold\n",
    "from sklearn.model_selection import StratifiedKFold\n",
    "kf=KFold(n_splits=5)\n",
    "score=cross_val_score(rf,X,y,cv=kf)\n",
    "print(\"Cross Validation Scores are {}\".format(score))\n",
    "print(\"Average Cross Validation score :{}\".format(score.mean()))"
   ]
  },
  {
   "cell_type": "markdown",
   "metadata": {},
   "source": [
    "##### From the results metrics we got, our MAE is $4.7 which is the potential error our model might miss the prediction listing price with. Is the $4.7 miss bad? Not at all because our average listing price $198. Our R2 is 0.99 which means that our predictors are able to predict our target variable accurately.Our model was tested for over-fitting using cross-validation and train-test consistency and proved not to be overfitting. From another analysis we found that 92% of reviews in 2016 were positive.\n",
    "\n",
    "##### Do we need to tune our parameters? With the results we have we can be comfortable with our model perfomance. "
   ]
  },
  {
   "cell_type": "markdown",
   "metadata": {},
   "source": [
    "# Conclusion"
   ]
  },
  {
   "cell_type": "markdown",
   "metadata": {},
   "source": [
    "##### We used 2016 data because it was the only year that was available in all dates on our datasets hence we were able to do complete data merges for more insights. We were able to predict listing prices, and able to have a view of reviews and their stats."
   ]
  }
 ],
 "metadata": {
  "kernelspec": {
   "display_name": "Python 3",
   "language": "python",
   "name": "python3"
  },
  "language_info": {
   "codemirror_mode": {
    "name": "ipython",
    "version": 3
   },
   "file_extension": ".py",
   "mimetype": "text/x-python",
   "name": "python",
   "nbconvert_exporter": "python",
   "pygments_lexer": "ipython3",
   "version": "3.8.5"
  }
 },
 "nbformat": 4,
 "nbformat_minor": 2
}
